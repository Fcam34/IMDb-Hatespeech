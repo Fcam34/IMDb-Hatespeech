{
 "cells": [
  {
   "cell_type": "code",
   "execution_count": 282,
   "metadata": {},
   "outputs": [],
   "source": [
    "# Reading TRAIN DATA - Positive\n",
    "\n",
    "import os\n",
    "import pandas as pd\n",
    "import numpy as np\n",
    "\n",
    "train_pos_data = []\n",
    "f = open(\"E:\\\\Google下载\\\\datasets_coursework1(1) (1)\\\\datasets_coursework1\\\\IMDb\\\\train\\\\imdb_train_pos.txt\",encoding=\"iso-8859-1\")\n",
    "data_train_pos = f.readline()\n",
    "while data_train_pos:\n",
    "\n",
    "    data_train_pos = f.readline()\n",
    "    train_pos_data.append(data_train_pos)\n",
    "#print(train_pos_data)\n",
    "f.close()"
   ]
  },
  {
   "cell_type": "code",
   "execution_count": 283,
   "metadata": {},
   "outputs": [],
   "source": [
    "# Reading TRAIN DATA - Negative\n",
    "train_neg_data = []\n",
    "f = open(\"E:\\\\Google下载\\\\datasets_coursework1(1) (1)\\\\datasets_coursework1\\\\IMDb\\\\train\\\\imdb_train_neg.txt\",encoding=\"iso-8859-1\")\n",
    "data_train_neg = f.readline()\n",
    "while data_train_neg:\n",
    "\n",
    "    data_train_neg = f.readline()\n",
    "    train_neg_data.append(data_train_neg)\n",
    "#print(train_neg_data)\n",
    "f.close()"
   ]
  },
  {
   "cell_type": "code",
   "execution_count": 284,
   "metadata": {},
   "outputs": [
    {
     "data": {
      "text/plain": [
       "(7483, 2)"
      ]
     },
     "execution_count": 284,
     "metadata": {},
     "output_type": "execute_result"
    }
   ],
   "source": [
    "\n",
    "# TRAIN DATA - Positive DataFrame\n",
    "train_df_p = pd.DataFrame(train_pos_data, columns=['review'])\n",
    "train_df_p['label'] = 'positive'\n",
    "train_df_p.head()\n",
    "train_df_p.shape\n"
   ]
  },
  {
   "cell_type": "code",
   "execution_count": 285,
   "metadata": {},
   "outputs": [
    {
     "data": {
      "text/plain": [
       "(7517, 2)"
      ]
     },
     "execution_count": 285,
     "metadata": {},
     "output_type": "execute_result"
    }
   ],
   "source": [
    "# TRAIN DATA - Negative DataFrame\n",
    "\n",
    "train_df_n = pd.DataFrame(train_neg_data, columns=['review'])\n",
    "train_df_n.head()\n",
    "train_df_n['label'] = 'negative'\n",
    "train_df_n.head()\n",
    "train_df_n.shape"
   ]
  },
  {
   "cell_type": "code",
   "execution_count": 286,
   "metadata": {},
   "outputs": [
    {
     "data": {
      "text/plain": [
       "(15000, 2)"
      ]
     },
     "execution_count": 286,
     "metadata": {},
     "output_type": "execute_result"
    }
   ],
   "source": [
    "# Concatnating Positive and Negative Train Data\n",
    "\n",
    "train_df = pd.concat([train_df_p, train_df_n])\n",
    "train_df.shape"
   ]
  },
  {
   "cell_type": "code",
   "execution_count": 287,
   "metadata": {},
   "outputs": [],
   "source": [
    "# Writing Train DataFrame to a CSV file\n",
    "\n",
    "train_df.to_csv('Train_Data.csv')"
   ]
  },
  {
   "cell_type": "code",
   "execution_count": 288,
   "metadata": {},
   "outputs": [],
   "source": [
    "# Reading TEST DATA - Positive\n",
    "\n",
    "test_pos_data = []\n",
    "f = open(\"E:\\\\Google下载\\\\datasets_coursework1(1) (1)\\\\datasets_coursework1\\\\IMDb\\\\test\\\\imdb_test_pos.txt\",encoding=\"iso-8859-1\")\n",
    "data_test_pos = f.readline()\n",
    "while data_test_pos:\n",
    "\n",
    "    data_test_pos = f.readline()\n",
    "    test_pos_data.append(data_test_pos)\n",
    "\n",
    "f.close()"
   ]
  },
  {
   "cell_type": "code",
   "execution_count": 289,
   "metadata": {},
   "outputs": [],
   "source": [
    "test_neg_data = []\n",
    "f = open(\"E:\\\\Google下载\\\\datasets_coursework1(1) (1)\\\\datasets_coursework1\\\\IMDb\\\\test\\\\imdb_test_neg.txt\",encoding=\"iso-8859-1\")\n",
    "data_test_neg = f.readline()\n",
    "while data_test_neg:\n",
    "\n",
    "    data_test_neg = f.readline()\n",
    "    test_neg_data.append(data_test_neg)\n",
    "\n",
    "f.close()"
   ]
  },
  {
   "cell_type": "code",
   "execution_count": 290,
   "metadata": {},
   "outputs": [
    {
     "data": {
      "text/plain": [
       "(5000, 2)"
      ]
     },
     "execution_count": 290,
     "metadata": {},
     "output_type": "execute_result"
    }
   ],
   "source": [
    "# Test DATA - Positive DataFrame\n",
    "test_df_p = pd.DataFrame(test_pos_data, columns=['review'])\n",
    "test_df_p['label'] = 'positive'\n",
    "test_df_p.shape\n",
    "\n",
    "# Test DATA - Negative DataFrame\n",
    "\n",
    "test_df_n = pd.DataFrame(test_neg_data, columns=['review'])\n",
    "test_df_n.head()\n",
    "test_df_n['label'] = 'negative'\n",
    "test_df_n.head()\n",
    "test_df_n.shape\n",
    "\n",
    "# Concatnating Positive and Negative Test Data\n",
    "\n",
    "test_df = pd.concat([test_df_p, test_df_n])\n",
    "test_df.shape"
   ]
  },
  {
   "cell_type": "code",
   "execution_count": 291,
   "metadata": {},
   "outputs": [],
   "source": [
    "\n",
    "# Writing Test DataFrame to a CSV file\n",
    "\n",
    "test_df.to_csv('Test_Data.csv')"
   ]
  },
  {
   "cell_type": "code",
   "execution_count": 292,
   "metadata": {},
   "outputs": [
    {
     "data": {
      "text/html": [
       "<div>\n",
       "<style scoped>\n",
       "    .dataframe tbody tr th:only-of-type {\n",
       "        vertical-align: middle;\n",
       "    }\n",
       "\n",
       "    .dataframe tbody tr th {\n",
       "        vertical-align: top;\n",
       "    }\n",
       "\n",
       "    .dataframe thead th {\n",
       "        text-align: right;\n",
       "    }\n",
       "</style>\n",
       "<table border=\"1\" class=\"dataframe\">\n",
       "  <thead>\n",
       "    <tr style=\"text-align: right;\">\n",
       "      <th></th>\n",
       "      <th>review</th>\n",
       "      <th>label</th>\n",
       "    </tr>\n",
       "  </thead>\n",
       "  <tbody>\n",
       "    <tr>\n",
       "      <th>0</th>\n",
       "      <td>Fantastic, Madonna at her finest, the film is ...</td>\n",
       "      <td>positive</td>\n",
       "    </tr>\n",
       "    <tr>\n",
       "      <th>1</th>\n",
       "      <td>From a perspective that it is possible to make...</td>\n",
       "      <td>positive</td>\n",
       "    </tr>\n",
       "    <tr>\n",
       "      <th>2</th>\n",
       "      <td>What is often neglected about Harold Lloyd is ...</td>\n",
       "      <td>positive</td>\n",
       "    </tr>\n",
       "    <tr>\n",
       "      <th>3</th>\n",
       "      <td>You'll either love or hate movies such as this...</td>\n",
       "      <td>positive</td>\n",
       "    </tr>\n",
       "    <tr>\n",
       "      <th>4</th>\n",
       "      <td>Good (not great) little horror film with a hig...</td>\n",
       "      <td>positive</td>\n",
       "    </tr>\n",
       "  </tbody>\n",
       "</table>\n",
       "</div>"
      ],
      "text/plain": [
       "                                              review     label\n",
       "0  Fantastic, Madonna at her finest, the film is ...  positive\n",
       "1  From a perspective that it is possible to make...  positive\n",
       "2  What is often neglected about Harold Lloyd is ...  positive\n",
       "3  You'll either love or hate movies such as this...  positive\n",
       "4  Good (not great) little horror film with a hig...  positive"
      ]
     },
     "execution_count": 292,
     "metadata": {},
     "output_type": "execute_result"
    }
   ],
   "source": [
    "\n",
    "import string \n",
    "import re   # regular expressions library\n",
    "\n",
    "tags = re.compile('<.*?>')\n",
    "tags\n",
    "\n",
    "# Train Data\n",
    "\n",
    "train_df['review'] = train_df['review'].str.replace(tags, ' ') # Removing HTML tags\n",
    "train_df.head()"
   ]
  },
  {
   "cell_type": "code",
   "execution_count": 293,
   "metadata": {},
   "outputs": [
    {
     "data": {
      "text/html": [
       "<div>\n",
       "<style scoped>\n",
       "    .dataframe tbody tr th:only-of-type {\n",
       "        vertical-align: middle;\n",
       "    }\n",
       "\n",
       "    .dataframe tbody tr th {\n",
       "        vertical-align: top;\n",
       "    }\n",
       "\n",
       "    .dataframe thead th {\n",
       "        text-align: right;\n",
       "    }\n",
       "</style>\n",
       "<table border=\"1\" class=\"dataframe\">\n",
       "  <thead>\n",
       "    <tr style=\"text-align: right;\">\n",
       "      <th></th>\n",
       "      <th>review</th>\n",
       "      <th>label</th>\n",
       "    </tr>\n",
       "  </thead>\n",
       "  <tbody>\n",
       "    <tr>\n",
       "      <th>0</th>\n",
       "      <td>Fantastic Madonna at her finest the film is fu...</td>\n",
       "      <td>positive</td>\n",
       "    </tr>\n",
       "    <tr>\n",
       "      <th>1</th>\n",
       "      <td>From a perspective that it is possible to make...</td>\n",
       "      <td>positive</td>\n",
       "    </tr>\n",
       "    <tr>\n",
       "      <th>2</th>\n",
       "      <td>What is often neglected about Harold Lloyd is ...</td>\n",
       "      <td>positive</td>\n",
       "    </tr>\n",
       "    <tr>\n",
       "      <th>3</th>\n",
       "      <td>Youll either love or hate movies such as this ...</td>\n",
       "      <td>positive</td>\n",
       "    </tr>\n",
       "    <tr>\n",
       "      <th>4</th>\n",
       "      <td>Good not great little horror film with a high ...</td>\n",
       "      <td>positive</td>\n",
       "    </tr>\n",
       "  </tbody>\n",
       "</table>\n",
       "</div>"
      ],
      "text/plain": [
       "                                              review     label\n",
       "0  Fantastic Madonna at her finest the film is fu...  positive\n",
       "1  From a perspective that it is possible to make...  positive\n",
       "2  What is often neglected about Harold Lloyd is ...  positive\n",
       "3  Youll either love or hate movies such as this ...  positive\n",
       "4  Good not great little horror film with a high ...  positive"
      ]
     },
     "execution_count": 293,
     "metadata": {},
     "output_type": "execute_result"
    }
   ],
   "source": [
    "\n",
    "punctuation = string.punctuation\n",
    "punctuation\n",
    "\n",
    "# Train Data\n",
    "\n",
    "train_df['review']  = train_df['review'].str.replace('[{}]'.format(string.punctuation), '')# Removing punctuation\n",
    "train_df.head()"
   ]
  },
  {
   "cell_type": "code",
   "execution_count": 294,
   "metadata": {},
   "outputs": [],
   "source": [
    "train_df.to_csv('TrainData_WithoutHTML.csv')"
   ]
  },
  {
   "cell_type": "code",
   "execution_count": 295,
   "metadata": {},
   "outputs": [],
   "source": [
    "# TEST Data\n",
    "test_df['review'] = test_df['review'].str.replace(tags, ' ') # Removing HTML tags"
   ]
  },
  {
   "cell_type": "code",
   "execution_count": 296,
   "metadata": {},
   "outputs": [],
   "source": [
    "test_df['review'] = test_df['review'].str.replace('[{}]'.format(string.punctuation), '')# Removing punctuation"
   ]
  },
  {
   "cell_type": "code",
   "execution_count": 297,
   "metadata": {},
   "outputs": [],
   "source": [
    "\n",
    "# Train Data After Removing HTML Tags and Punctuation\n",
    "test_df.to_csv('TestData_WithoutHTML.csv')"
   ]
  },
  {
   "cell_type": "code",
   "execution_count": 298,
   "metadata": {},
   "outputs": [],
   "source": [
    "import nltk\n",
    "from nltk.corpus import stopwords\n",
    "import pandas as pd\n",
    "train_df = pd.read_csv(\"TrainData_WithoutHTML.csv\", encoding='ISO-8859-1', engine='c')\n",
    "train_df['review'] = train_df['review'].str.lower()"
   ]
  },
  {
   "cell_type": "code",
   "execution_count": 299,
   "metadata": {},
   "outputs": [],
   "source": [
    "from nltk.tokenize import word_tokenize\n",
    " \n",
    "clean_review =[]\n",
    " \n",
    "Stopwords = stopwords.words('english')\n",
    " \n",
    "for f in train_df['review']:\n",
    "    f1='%s' %f\n",
    "    word_tokens = word_tokenize(f1)\n",
    "    clean = [w for w in word_tokens if w.lower() not in Stopwords]\n",
    "    f_new = \" \".join(clean)\n",
    "    clean_review.append(f_new)\n",
    " \n",
    "\n",
    "train_df['review'] = clean_review"
   ]
  },
  {
   "cell_type": "code",
   "execution_count": 300,
   "metadata": {},
   "outputs": [
    {
     "data": {
      "text/html": [
       "<div>\n",
       "<style scoped>\n",
       "    .dataframe tbody tr th:only-of-type {\n",
       "        vertical-align: middle;\n",
       "    }\n",
       "\n",
       "    .dataframe tbody tr th {\n",
       "        vertical-align: top;\n",
       "    }\n",
       "\n",
       "    .dataframe thead th {\n",
       "        text-align: right;\n",
       "    }\n",
       "</style>\n",
       "<table border=\"1\" class=\"dataframe\">\n",
       "  <thead>\n",
       "    <tr style=\"text-align: right;\">\n",
       "      <th></th>\n",
       "      <th>Unnamed: 0</th>\n",
       "      <th>review</th>\n",
       "      <th>label</th>\n",
       "    </tr>\n",
       "  </thead>\n",
       "  <tbody>\n",
       "    <tr>\n",
       "      <th>0</th>\n",
       "      <td>0</td>\n",
       "      <td>fantastic madonna finest film funny acting bri...</td>\n",
       "      <td>positive</td>\n",
       "    </tr>\n",
       "    <tr>\n",
       "      <th>1</th>\n",
       "      <td>1</td>\n",
       "      <td>perspective possible make movies offensive peo...</td>\n",
       "      <td>positive</td>\n",
       "    </tr>\n",
       "    <tr>\n",
       "      <th>2</th>\n",
       "      <td>2</td>\n",
       "      <td>often neglected harold lloyd actor unlike chap...</td>\n",
       "      <td>positive</td>\n",
       "    </tr>\n",
       "    <tr>\n",
       "      <th>3</th>\n",
       "      <td>3</td>\n",
       "      <td>youll either love hate movies thriller set ins...</td>\n",
       "      <td>positive</td>\n",
       "    </tr>\n",
       "    <tr>\n",
       "      <th>4</th>\n",
       "      <td>4</td>\n",
       "      <td>good great little horror film high creep facto...</td>\n",
       "      <td>positive</td>\n",
       "    </tr>\n",
       "  </tbody>\n",
       "</table>\n",
       "</div>"
      ],
      "text/plain": [
       "   Unnamed: 0                                             review     label\n",
       "0           0  fantastic madonna finest film funny acting bri...  positive\n",
       "1           1  perspective possible make movies offensive peo...  positive\n",
       "2           2  often neglected harold lloyd actor unlike chap...  positive\n",
       "3           3  youll either love hate movies thriller set ins...  positive\n",
       "4           4  good great little horror film high creep facto...  positive"
      ]
     },
     "execution_count": 300,
     "metadata": {},
     "output_type": "execute_result"
    }
   ],
   "source": [
    "train_df.head()"
   ]
  },
  {
   "cell_type": "code",
   "execution_count": 301,
   "metadata": {},
   "outputs": [],
   "source": [
    "train_df.to_csv('Train_df_AfterRemoving_Stopwords.csv')"
   ]
  },
  {
   "cell_type": "code",
   "execution_count": 302,
   "metadata": {},
   "outputs": [],
   "source": [
    "# read dataframe\n",
    "test_df = pd.read_csv(\"TestData_WithoutHTML.csv\", encoding='ISO-8859-1', engine='c')\n",
    "test_df['review'] = test_df['review'].str.lower()"
   ]
  },
  {
   "cell_type": "code",
   "execution_count": 303,
   "metadata": {},
   "outputs": [
    {
     "data": {
      "text/html": [
       "<div>\n",
       "<style scoped>\n",
       "    .dataframe tbody tr th:only-of-type {\n",
       "        vertical-align: middle;\n",
       "    }\n",
       "\n",
       "    .dataframe tbody tr th {\n",
       "        vertical-align: top;\n",
       "    }\n",
       "\n",
       "    .dataframe thead th {\n",
       "        text-align: right;\n",
       "    }\n",
       "</style>\n",
       "<table border=\"1\" class=\"dataframe\">\n",
       "  <thead>\n",
       "    <tr style=\"text-align: right;\">\n",
       "      <th></th>\n",
       "      <th>Unnamed: 0</th>\n",
       "      <th>review</th>\n",
       "      <th>label</th>\n",
       "    </tr>\n",
       "  </thead>\n",
       "  <tbody>\n",
       "    <tr>\n",
       "      <th>0</th>\n",
       "      <td>0</td>\n",
       "      <td>fantastic russian wwii movie like most russian...</td>\n",
       "      <td>positive</td>\n",
       "    </tr>\n",
       "    <tr>\n",
       "      <th>1</th>\n",
       "      <td>1</td>\n",
       "      <td>boogie nights is a masterpiece it tells a grea...</td>\n",
       "      <td>positive</td>\n",
       "    </tr>\n",
       "    <tr>\n",
       "      <th>2</th>\n",
       "      <td>2</td>\n",
       "      <td>jackass number two is easily the most hilariou...</td>\n",
       "      <td>positive</td>\n",
       "    </tr>\n",
       "    <tr>\n",
       "      <th>3</th>\n",
       "      <td>3</td>\n",
       "      <td>dolemite may not have been the first black exp...</td>\n",
       "      <td>positive</td>\n",
       "    </tr>\n",
       "    <tr>\n",
       "      <th>4</th>\n",
       "      <td>4</td>\n",
       "      <td>the first ever fully synchronized sound cartoo...</td>\n",
       "      <td>positive</td>\n",
       "    </tr>\n",
       "  </tbody>\n",
       "</table>\n",
       "</div>"
      ],
      "text/plain": [
       "   Unnamed: 0                                             review     label\n",
       "0           0  fantastic russian wwii movie like most russian...  positive\n",
       "1           1  boogie nights is a masterpiece it tells a grea...  positive\n",
       "2           2  jackass number two is easily the most hilariou...  positive\n",
       "3           3  dolemite may not have been the first black exp...  positive\n",
       "4           4  the first ever fully synchronized sound cartoo...  positive"
      ]
     },
     "execution_count": 303,
     "metadata": {},
     "output_type": "execute_result"
    }
   ],
   "source": [
    "test_df.head()"
   ]
  },
  {
   "cell_type": "code",
   "execution_count": 304,
   "metadata": {},
   "outputs": [],
   "source": [
    "clean_review =[]\n",
    " \n",
    "Stopwords =set(stopwords.words('english'))\n",
    " \n",
    "for f in test_df['review']:\n",
    "    f1='%s' %f\n",
    "    word_tokens = word_tokenize(f1)\n",
    "    clean = [w for w in word_tokens if w.lower() not in Stopwords]\n",
    "    f_new = \" \".join(clean)\n",
    "    clean_review.append(f_new)\n",
    "\n",
    "test_df['review'] = clean_review\n"
   ]
  },
  {
   "cell_type": "code",
   "execution_count": 305,
   "metadata": {},
   "outputs": [
    {
     "data": {
      "text/html": [
       "<div>\n",
       "<style scoped>\n",
       "    .dataframe tbody tr th:only-of-type {\n",
       "        vertical-align: middle;\n",
       "    }\n",
       "\n",
       "    .dataframe tbody tr th {\n",
       "        vertical-align: top;\n",
       "    }\n",
       "\n",
       "    .dataframe thead th {\n",
       "        text-align: right;\n",
       "    }\n",
       "</style>\n",
       "<table border=\"1\" class=\"dataframe\">\n",
       "  <thead>\n",
       "    <tr style=\"text-align: right;\">\n",
       "      <th></th>\n",
       "      <th>Unnamed: 0</th>\n",
       "      <th>review</th>\n",
       "      <th>label</th>\n",
       "    </tr>\n",
       "  </thead>\n",
       "  <tbody>\n",
       "    <tr>\n",
       "      <th>0</th>\n",
       "      <td>0</td>\n",
       "      <td>fantastic russian wwii movie like russian wwii...</td>\n",
       "      <td>positive</td>\n",
       "    </tr>\n",
       "    <tr>\n",
       "      <th>1</th>\n",
       "      <td>1</td>\n",
       "      <td>boogie nights masterpiece tells great story fl...</td>\n",
       "      <td>positive</td>\n",
       "    </tr>\n",
       "    <tr>\n",
       "      <th>2</th>\n",
       "      <td>2</td>\n",
       "      <td>jackass number two easily hilarious film 2006 ...</td>\n",
       "      <td>positive</td>\n",
       "    </tr>\n",
       "    <tr>\n",
       "      <th>3</th>\n",
       "      <td>3</td>\n",
       "      <td>dolemite may first black exploitation flick co...</td>\n",
       "      <td>positive</td>\n",
       "    </tr>\n",
       "    <tr>\n",
       "      <th>4</th>\n",
       "      <td>4</td>\n",
       "      <td>first ever fully synchronized sound cartoon wa...</td>\n",
       "      <td>positive</td>\n",
       "    </tr>\n",
       "  </tbody>\n",
       "</table>\n",
       "</div>"
      ],
      "text/plain": [
       "   Unnamed: 0                                             review     label\n",
       "0           0  fantastic russian wwii movie like russian wwii...  positive\n",
       "1           1  boogie nights masterpiece tells great story fl...  positive\n",
       "2           2  jackass number two easily hilarious film 2006 ...  positive\n",
       "3           3  dolemite may first black exploitation flick co...  positive\n",
       "4           4  first ever fully synchronized sound cartoon wa...  positive"
      ]
     },
     "execution_count": 305,
     "metadata": {},
     "output_type": "execute_result"
    }
   ],
   "source": [
    "test_df.head()"
   ]
  },
  {
   "cell_type": "code",
   "execution_count": 306,
   "metadata": {},
   "outputs": [],
   "source": [
    "test_df.to_csv('Test_df_AfterRemoving_Stopwords.csv')"
   ]
  },
  {
   "cell_type": "code",
   "execution_count": 307,
   "metadata": {},
   "outputs": [],
   "source": [
    "from collections import Counter\n",
    "\n",
    "train_df = pd.read_csv(\"Train_df_AfterRemoving_Stopwords.csv\", encoding='ISO-8859-1', engine='c')\n",
    "mostwords=\" \".join('%s' %id for id in train_df['review'])\n"
   ]
  },
  {
   "cell_type": "code",
   "execution_count": 308,
   "metadata": {},
   "outputs": [
    {
     "data": {
      "text/plain": [
       "[('movie', 25425),\n",
       " ('film', 22721),\n",
       " ('one', 15385),\n",
       " ('like', 11557),\n",
       " ('good', 8398),\n",
       " ('even', 7270),\n",
       " ('would', 7169),\n",
       " ('time', 7030),\n",
       " ('see', 6756),\n",
       " ('really', 6712),\n",
       " ('story', 6339),\n",
       " ('well', 5723),\n",
       " ('much', 5692),\n",
       " ('bad', 5414),\n",
       " ('get', 5403),\n",
       " ('great', 5391),\n",
       " ('people', 5166),\n",
       " ('also', 5162),\n",
       " ('first', 5065),\n",
       " ('dont', 5005),\n",
       " ('movies', 4651),\n",
       " ('films', 4643),\n",
       " ('make', 4595),\n",
       " ('characters', 4493),\n",
       " ('way', 4450),\n",
       " ('could', 4446),\n",
       " ('made', 4438),\n",
       " ('think', 4231),\n",
       " ('watch', 4165),\n",
       " ('many', 4130),\n",
       " ('character', 3941),\n",
       " ('never', 3915),\n",
       " ('seen', 3915),\n",
       " ('love', 3880),\n",
       " ('two', 3865),\n",
       " ('know', 3793),\n",
       " ('plot', 3765),\n",
       " ('acting', 3741),\n",
       " ('best', 3734),\n",
       " ('show', 3671),\n",
       " ('life', 3568),\n",
       " ('little', 3549),\n",
       " ('ever', 3528),\n",
       " ('better', 3349),\n",
       " ('scene', 3299),\n",
       " ('say', 3224),\n",
       " ('end', 3208),\n",
       " ('still', 3115),\n",
       " ('man', 3098),\n",
       " ('scenes', 3093),\n",
       " ('something', 2993),\n",
       " ('im', 2823),\n",
       " ('watching', 2792),\n",
       " ('go', 2771),\n",
       " ('back', 2764),\n",
       " ('real', 2737),\n",
       " ('thing', 2729),\n",
       " ('didnt', 2695),\n",
       " ('funny', 2654),\n",
       " ('actors', 2628),\n",
       " ('doesnt', 2623),\n",
       " ('years', 2579),\n",
       " ('actually', 2544),\n",
       " ('another', 2529),\n",
       " ('makes', 2512),\n",
       " ('find', 2460),\n",
       " ('look', 2447),\n",
       " ('nothing', 2438),\n",
       " ('work', 2425),\n",
       " ('going', 2422),\n",
       " ('lot', 2411),\n",
       " ('though', 2394),\n",
       " ('every', 2384),\n",
       " ('old', 2299),\n",
       " ('part', 2292),\n",
       " ('new', 2272),\n",
       " ('director', 2235),\n",
       " ('us', 2233),\n",
       " ('cant', 2230),\n",
       " ('thats', 2179),\n",
       " ('pretty', 2166),\n",
       " ('want', 2150),\n",
       " ('got', 2137),\n",
       " ('cast', 2136),\n",
       " ('quite', 2101),\n",
       " ('around', 2089),\n",
       " ('enough', 2088),\n",
       " ('however', 2082),\n",
       " ('things', 2074),\n",
       " ('thought', 2045),\n",
       " ('music', 2041),\n",
       " ('seems', 2037),\n",
       " ('big', 2030),\n",
       " ('world', 2008),\n",
       " ('take', 2004),\n",
       " ('fact', 1998),\n",
       " ('ive', 1978),\n",
       " ('young', 1953),\n",
       " ('horror', 1951),\n",
       " ('give', 1950)]"
      ]
     },
     "execution_count": 308,
     "metadata": {},
     "output_type": "execute_result"
    }
   ],
   "source": [
    "Counter((mostwords).split()).most_common(100) #choose meaningless words"
   ]
  },
  {
   "cell_type": "code",
   "execution_count": 309,
   "metadata": {},
   "outputs": [],
   "source": [
    "# Removing Meaningless Words from Train Data\n",
    "from nltk.tokenize import word_tokenize\n",
    "Meaningless_Words = ['movie','9','300', 'film', 'movies', 'films','us','things', 'cinema', 'one', 'get', 'would', 'made', 'make', 'dont', 'time', 'story', 'characters', 'character', 'see', 'life', 'show', 'think', 'scene', 'people', 'also', 'even', 'first', 'many', 'well', 'way', 'play','thing','two','real', 'still','seem', 'little', 'end','work','watch', 'always', 'know', 'take','find', 'though', 'plot', 'say', 'much', 'seen', 'never', 'could', 'much', 'years', 'part', 'go', 'makes', 'scenes', 'ever', 'back', 'come', 'performance', 'may', 'fact', 'us', 'something', 'give', 'didnt','look', 'saw','shows','another','cast', 'every', 'watching', 'going', 'actually','things', 'man', 'want', 'title', 'entire', 'budget', 'school', 'become', 'top', 'case', 'person', 'face', 'piece','camera', 'keep', 'video', 'gives', 'let', 'start', 'remember', 'came', 'perhaps', 'rest','use', 'along', 'production', 'line', 'tell', 'next', 'home', 'try', 'need', 'short', 'else','used', 'takes', 'said', 'later', 'someone', 'goes', 'trying', 'course', 'comees', 'yet', 'turn','wont', 'wants', 'went', 'couldnt', 'save', 'group', 'alone', 'wouldnt', 'anyway', 'moment', 'took','role', 'etc', 'says', 'hand', 'late', 'directed' , 'car', 'soon', 'town', 'sometimes', 'able', 'called', 'talking', 'cut', 'taking', 'finds', 'started', 'today', 'across', 'whose', 'taken', 'lets', 'looked', 'including', 'word', 'words', 'arent', 'events', 'room', 'im', 'doesnt', 'director', 'thats', 'nothing', 'since', 'hes', 'anything', 'rather', 'away', 'last','anyone', 'played', 'looks', 'wasnt', 'put', 'comes', 'became', 'youve', 'move', 'follow', 'learn','whos', 'form', 'means', 'comments', 'using', 'tells', 'call', 'kid', 'police', 'theyre', 'youll', 'days','1', '2', '3', '10','example', 'id', 'becomes', 'father', 'mother', 'completely', 'seeing', 'three','job', 'place', 'hair', '15', 'store', 'werent', 'company', 'state', '8', 'science', 'former', 'water','island', 'list', 'sees','telling', 'box', 'air', 'meant', 'parts', 'gave', 'seemed', 'based', 'mr','several']\n",
    "\n",
    "clean_review =[]\n",
    " \n",
    "for f in train_df['review']:\n",
    "    f1='%s' %f\n",
    "    word_tokens = word_tokenize(f1)\n",
    "    clean = [w for w in word_tokens if w.lower() not in Meaningless_Words]\n",
    "    f_new = \" \".join(clean)\n",
    "    clean_review.append(f_new)\n",
    " \n",
    "train_df['review'] = clean_review"
   ]
  },
  {
   "cell_type": "code",
   "execution_count": 310,
   "metadata": {},
   "outputs": [],
   "source": [
    "train_df.to_csv('Train_Data_After_Removing_MeaninglessWords.csv')"
   ]
  },
  {
   "cell_type": "code",
   "execution_count": 311,
   "metadata": {},
   "outputs": [
    {
     "data": {
      "text/html": [
       "<div>\n",
       "<style scoped>\n",
       "    .dataframe tbody tr th:only-of-type {\n",
       "        vertical-align: middle;\n",
       "    }\n",
       "\n",
       "    .dataframe tbody tr th {\n",
       "        vertical-align: top;\n",
       "    }\n",
       "\n",
       "    .dataframe thead th {\n",
       "        text-align: right;\n",
       "    }\n",
       "</style>\n",
       "<table border=\"1\" class=\"dataframe\">\n",
       "  <thead>\n",
       "    <tr style=\"text-align: right;\">\n",
       "      <th></th>\n",
       "      <th>Unnamed: 0</th>\n",
       "      <th>Unnamed: 0.1</th>\n",
       "      <th>review</th>\n",
       "      <th>label</th>\n",
       "    </tr>\n",
       "  </thead>\n",
       "  <tbody>\n",
       "    <tr>\n",
       "      <th>0</th>\n",
       "      <td>0</td>\n",
       "      <td>0</td>\n",
       "      <td>fantastic russian wwii like russian wwii ascen...</td>\n",
       "      <td>positive</td>\n",
       "    </tr>\n",
       "    <tr>\n",
       "      <th>1</th>\n",
       "      <td>1</td>\n",
       "      <td>1</td>\n",
       "      <td>boogie nights masterpiece great flair great di...</td>\n",
       "      <td>positive</td>\n",
       "    </tr>\n",
       "    <tr>\n",
       "      <th>2</th>\n",
       "      <td>2</td>\n",
       "      <td>2</td>\n",
       "      <td>jackass number easily hilarious 2006 beating h...</td>\n",
       "      <td>positive</td>\n",
       "    </tr>\n",
       "    <tr>\n",
       "      <th>3</th>\n",
       "      <td>3</td>\n",
       "      <td>3</td>\n",
       "      <td>dolemite black exploitation flick certainly be...</td>\n",
       "      <td>positive</td>\n",
       "    </tr>\n",
       "    <tr>\n",
       "      <th>4</th>\n",
       "      <td>4</td>\n",
       "      <td>4</td>\n",
       "      <td>fully synchronized sound cartoon walt disneys ...</td>\n",
       "      <td>positive</td>\n",
       "    </tr>\n",
       "  </tbody>\n",
       "</table>\n",
       "</div>"
      ],
      "text/plain": [
       "   Unnamed: 0  Unnamed: 0.1  \\\n",
       "0           0             0   \n",
       "1           1             1   \n",
       "2           2             2   \n",
       "3           3             3   \n",
       "4           4             4   \n",
       "\n",
       "                                              review     label  \n",
       "0  fantastic russian wwii like russian wwii ascen...  positive  \n",
       "1  boogie nights masterpiece great flair great di...  positive  \n",
       "2  jackass number easily hilarious 2006 beating h...  positive  \n",
       "3  dolemite black exploitation flick certainly be...  positive  \n",
       "4  fully synchronized sound cartoon walt disneys ...  positive  "
      ]
     },
     "execution_count": 311,
     "metadata": {},
     "output_type": "execute_result"
    }
   ],
   "source": [
    " #Finding Most Meaningless Words From Test Data\n",
    "\n",
    "test_df = pd.read_csv(\"Test_df_AfterRemoving_Stopwords.csv\", encoding='ISO-8859-1', engine='c')\n",
    "\n",
    "clean_review1 =[]\n",
    " \n",
    "for f in test_df['review']:\n",
    "    f1='%s' %f\n",
    "    word_tokens = word_tokenize(f1)\n",
    "    clean = [w for w in word_tokens if w.lower() not in Meaningless_Words]\n",
    "    f_new = \" \".join(clean)\n",
    "    clean_review1.append(f_new)\n",
    " \n",
    "test_df['review'] = clean_review1\n",
    "#test_df.head()"
   ]
  },
  {
   "cell_type": "code",
   "execution_count": 312,
   "metadata": {},
   "outputs": [],
   "source": [
    "test_df.to_csv('Test_Data_After_Removing_MeaninglessWords.csv')"
   ]
  },
  {
   "cell_type": "code",
   "execution_count": 313,
   "metadata": {},
   "outputs": [],
   "source": [
    "clean_train_df = pd.read_csv('Train_Data_After_Removing_MeaninglessWords.csv', encoding='ISO-8859-1', engine='c')\n",
    "#print(clean_train_df['review'][clean_train_df.label == 'positive'])"
   ]
  },
  {
   "cell_type": "code",
   "execution_count": 321,
   "metadata": {},
   "outputs": [
    {
     "data": {
      "text/plain": [
       "[('like', 5026),\n",
       " ('good', 4208),\n",
       " ('great', 3896),\n",
       " ('really', 3096),\n",
       " ('love', 2615),\n",
       " ('best', 2519),\n",
       " ('acting', 1392),\n",
       " ('better', 1372),\n",
       " ('new', 1332),\n",
       " ('music', 1293)]"
      ]
     },
     "execution_count": 321,
     "metadata": {},
     "output_type": "execute_result"
    }
   ],
   "source": [
    "# Finding Most Common Words Positive Words / Highest frequency words\n",
    "#Finding Least commnon words / Lowest frequency words\n",
    "\n",
    "\n",
    "mostwords=\" \".join('%s' %id for id in clean_train_df['review'][clean_train_df.label == 'positive'])\n",
    "Counter((mostwords).split()).most_common(10)"
   ]
  },
  {
   "cell_type": "code",
   "execution_count": null,
   "metadata": {},
   "outputs": [],
   "source": []
  },
  {
   "cell_type": "code",
   "execution_count": 317,
   "metadata": {},
   "outputs": [
    {
     "data": {
      "text/plain": [
       "[('like', 6531),\n",
       " ('bad', 4351),\n",
       " ('good', 4190),\n",
       " ('really', 3616),\n",
       " ('acting', 2349),\n",
       " ('better', 1977),\n",
       " ('actors', 1502),\n",
       " ('great', 1495),\n",
       " ('worst', 1486),\n",
       " ('funny', 1370)]"
      ]
     },
     "execution_count": 317,
     "metadata": {},
     "output_type": "execute_result"
    }
   ],
   "source": [
    "\n",
    "# Finding Most Common Words Negative Words / Highest frequency words\n",
    "mostwords=\" \".join('%s' %id for id in clean_train_df['review'][clean_train_df.label == 'negative'])\n",
    "Counter((mostwords).split()).most_common(10)\n"
   ]
  },
  {
   "cell_type": "code",
   "execution_count": null,
   "metadata": {},
   "outputs": [],
   "source": []
  },
  {
   "cell_type": "code",
   "execution_count": 439,
   "metadata": {},
   "outputs": [],
   "source": [
    "# Hypothesis testing and Feature Selection(word frequency)\n",
    "\n",
    "clean_train_df = pd.read_csv(\"Train_Data_After_Removing_MeaninglessWords.csv\", encoding='ISO-8859-1', engine='c')\n",
    "clean_test_df = pd.read_csv(\"Test_Data_After_Removing_MeaninglessWords.csv\", encoding='ISO-8859-1', engine='c')"
   ]
  },
  {
   "cell_type": "code",
   "execution_count": 440,
   "metadata": {},
   "outputs": [],
   "source": [
    "clean_moviereview_df = pd.concat([clean_train_df, clean_test_df])"
   ]
  },
  {
   "cell_type": "code",
   "execution_count": 441,
   "metadata": {},
   "outputs": [
    {
     "data": {
      "text/plain": [
       "CountVectorizer(analyzer='word', binary=False, decode_error='strict',\n",
       "        dtype=<class 'numpy.int64'>, encoding='utf-8', input='content',\n",
       "        lowercase=True, max_df=1.0, max_features=700, min_df=1,\n",
       "        ngram_range=(1, 1), preprocessor=None, stop_words=None,\n",
       "        strip_accents=None, token_pattern='(?u)\\\\b\\\\w\\\\w+\\\\b',\n",
       "        tokenizer=None, vocabulary=None)"
      ]
     },
     "execution_count": 441,
     "metadata": {},
     "output_type": "execute_result"
    }
   ],
   "source": [
    "from sklearn.feature_extraction.text import CountVectorizer\n",
    "count_vect = CountVectorizer(max_features=700)\n",
    "count_vect.fit((clean_moviereview_df.review).values.astype('U'))"
   ]
  },
  {
   "cell_type": "code",
   "execution_count": 442,
   "metadata": {},
   "outputs": [],
   "source": [
    "X = count_vect.transform((clean_moviereview_df.review.values).astype('U')).toarray()\n",
    "from sklearn.preprocessing import LabelEncoder\n",
    "le = LabelEncoder()\n",
    "\n",
    "y = le.fit_transform(clean_moviereview_df.label)"
   ]
  },
  {
   "cell_type": "code",
   "execution_count": 447,
   "metadata": {},
   "outputs": [
    {
     "name": "stderr",
     "output_type": "stream",
     "text": [
      "C:\\Users\\ThinkPad\\Anaconda3\\lib\\site-packages\\sklearn\\utils\\validation.py:595: DataConversionWarning: Data with input dtype int64 was converted to float64 by StandardScaler.\n",
      "  warnings.warn(msg, DataConversionWarning)\n",
      "C:\\Users\\ThinkPad\\Anaconda3\\lib\\site-packages\\sklearn\\utils\\validation.py:595: DataConversionWarning: Data with input dtype int64 was converted to float64 by StandardScaler.\n",
      "  warnings.warn(msg, DataConversionWarning)\n",
      "C:\\Users\\ThinkPad\\Anaconda3\\lib\\site-packages\\sklearn\\utils\\validation.py:595: DataConversionWarning: Data with input dtype int64 was converted to float64 by StandardScaler.\n",
      "  warnings.warn(msg, DataConversionWarning)\n",
      "C:\\Users\\ThinkPad\\Anaconda3\\lib\\site-packages\\sklearn\\linear_model\\logistic.py:433: FutureWarning: Default solver will be changed to 'lbfgs' in 0.22. Specify a solver to silence this warning.\n",
      "  FutureWarning)\n"
     ]
    },
    {
     "name": "stdout",
     "output_type": "stream",
     "text": [
      "The Predictions is 0.8323727185398655\n",
      "The recall is 0.8613320079522863\n",
      "The f1 is 0.8466047874938935\n",
      "The Accuracy is 0.843\n"
     ]
    }
   ],
   "source": [
    "#Logistic Regression\n",
    "from sklearn.model_selection import train_test_split\n",
    "from sklearn.preprocessing import StandardScaler\n",
    "from sklearn.linear_model import LogisticRegression\n",
    "\n",
    "\n",
    "X_train, X_test, y_train, y_test = train_test_split(X, y, test_size = 0.2, random_state = 0)\n",
    "\n",
    "sc = StandardScaler()\n",
    "X_train = sc.fit_transform(X_train)\n",
    "X_test = sc.transform(X_test) \n",
    "\n",
    "\n",
    "\n",
    "classifier = LogisticRegression(random_state = 0)\n",
    "classifier.fit(X_train, y_train)\n",
    "y_pred = classifier.predict(X_test)\n",
    "\n",
    "\n",
    "from sklearn.metrics import precision_score,recall_score,f1_score,accuracy_score\n",
    "\n",
    "precision=precision_score(y_test, y_pred)\n",
    "recall=recall_score(y_test, y_pred)\n",
    "f1=f1_score(y_test, y_pred)\n",
    "accuracy = accuracy_score(y_test, y_pred)\n",
    "print('The Precision is', precision)\n",
    "print('The recall is', recall)\n",
    "print('The f1 is', f1)\n",
    "print('The Accuracy is', accuracy)"
   ]
  },
  {
   "cell_type": "code",
   "execution_count": 444,
   "metadata": {},
   "outputs": [
    {
     "name": "stdout",
     "output_type": "stream",
     "text": [
      "The Predictions is 0.71571072319202\n",
      "The recall is 0.713220675944334\n",
      "The f1 is 0.7144635299975105\n",
      "The Accuracy is 0.71325\n"
     ]
    }
   ],
   "source": [
    "#Decision Tree\n",
    "from sklearn.tree import DecisionTreeClassifier\n",
    "\n",
    "from sklearn.metrics import precision_score,recall_score,f1_score,accuracy_score\n",
    "\n",
    "clf = DecisionTreeClassifier(criterion='gini')\n",
    "\n",
    "clf.fit(X_train, y_train)\n",
    "\n",
    "predictions = clf.predict(X_test)\n",
    "precision=precision_score(y_test, predictions)\n",
    "recall=recall_score(y_test, predictions)\n",
    "f1=f1_score(y_test, predictions)\n",
    "accuracy = accuracy_score(y_test, predictions)\n",
    "print('The Precision is', precision)\n",
    "print('The recall is', recall)\n",
    "print('The f1 is', f1)\n",
    "print('The Accuracy is', accuracy)"
   ]
  },
  {
   "cell_type": "code",
   "execution_count": 445,
   "metadata": {},
   "outputs": [
    {
     "name": "stdout",
     "output_type": "stream",
     "text": [
      "The Predictions is 0.7652001977261493\n",
      "The recall is 0.7693836978131213\n",
      "The f1 is 0.7672862453531598\n",
      "The Accuracy is 0.76525\n"
     ]
    }
   ],
   "source": [
    "#Random Forest\n",
    "from sklearn.ensemble import RandomForestClassifier\n",
    "clf = RandomForestClassifier(n_estimators=5)\n",
    "\n",
    "clf.fit(X_train, y_train)\n",
    "\n",
    "predictions = clf.predict(X_test)\n",
    "precision=precision_score(y_test, predictions)\n",
    "recall=recall_score(y_test, predictions)\n",
    "f1=f1_score(y_test, predictions)\n",
    "accuracy = accuracy_score(y_test, predictions)\n",
    "print('The Precision is', precision)\n",
    "print('The recall is', recall)\n",
    "print('The f1 is', f1)\n",
    "print('The Accuracy is', accuracy)"
   ]
  },
  {
   "cell_type": "code",
   "execution_count": 446,
   "metadata": {},
   "outputs": [
    {
     "name": "stdout",
     "output_type": "stream",
     "text": [
      "The Predictions is 0.822921559417567\n",
      "The recall is 0.8707753479125249\n",
      "The f1 is 0.8461724221202608\n",
      "The Accuracy is 0.84075\n"
     ]
    }
   ],
   "source": [
    "#SVM\n",
    "from sklearn.svm import SVC\n",
    "clf = SVC()\n",
    "\n",
    "clf.fit(X_train, y_train)\n",
    "\n",
    "predictions = clf.predict(X_test)\n",
    "precision=precision_score(y_test, predictions)\n",
    "recall=recall_score(y_test, predictions)\n",
    "f1=f1_score(y_test, predictions)\n",
    "accuracy = accuracy_score(y_test, predictions)\n",
    "print('The Precision is', precision)\n",
    "print('The recall is', recall)\n",
    "print('The f1 is', f1)\n",
    "print('The Accuracy is', accuracy)"
   ]
  },
  {
   "cell_type": "code",
   "execution_count": 448,
   "metadata": {},
   "outputs": [],
   "source": [
    "# pos_tag-adj\n",
    "words=(clean_moviereview_df.review.values)\n"
   ]
  },
  {
   "cell_type": "code",
   "execution_count": 449,
   "metadata": {},
   "outputs": [],
   "source": [
    "import nltk"
   ]
  },
  {
   "cell_type": "code",
   "execution_count": 450,
   "metadata": {},
   "outputs": [],
   "source": [
    "words=(clean_moviereview_df.review.values.astype('U'))"
   ]
  },
  {
   "cell_type": "code",
   "execution_count": 451,
   "metadata": {},
   "outputs": [],
   "source": [
    "\n",
    "tag_words=[]\n",
    "for n in range(len(words)):\n",
    "    text=nltk.word_tokenize(words[n])\n",
    "    \n",
    "    \n",
    "    tag=nltk.pos_tag(text)\n",
    "    tag_words.append(tag)\n"
   ]
  },
  {
   "cell_type": "code",
   "execution_count": 422,
   "metadata": {},
   "outputs": [],
   "source": [
    "tags=[]\n",
    "for n in range(len(tag_words)):\n",
    "    for m in range(len(tag_words[n])):\n",
    "        if tag_words[n][m][1]=='JJ':\n",
    "            tags.append(tag_words[n][m][0])"
   ]
  },
  {
   "cell_type": "code",
   "execution_count": 423,
   "metadata": {},
   "outputs": [],
   "source": [
    "tags1 =[]\n",
    " \n",
    "for f in clean_moviereview_df['review']:\n",
    "    f1='%s' %f\n",
    "    word_tokens = word_tokenize(f1)\n",
    "    clean = [w for w in word_tokens if w in tags]\n",
    "    f_new = \" \".join(clean)\n",
    "    tags1.append(f_new)\n",
    "\n"
   ]
  },
  {
   "cell_type": "code",
   "execution_count": 452,
   "metadata": {},
   "outputs": [],
   "source": [
    "clean_moviereview_df['review']=tags1\n",
    "            "
   ]
  },
  {
   "cell_type": "code",
   "execution_count": 453,
   "metadata": {},
   "outputs": [
    {
     "data": {
      "text/plain": [
       "CountVectorizer(analyzer='word', binary=False, decode_error='strict',\n",
       "        dtype=<class 'numpy.int64'>, encoding='utf-8', input='content',\n",
       "        lowercase=True, max_df=1.0, max_features=700, min_df=1,\n",
       "        ngram_range=(1, 1), preprocessor=None, stop_words=None,\n",
       "        strip_accents=None, token_pattern='(?u)\\\\b\\\\w\\\\w+\\\\b',\n",
       "        tokenizer=None, vocabulary=None)"
      ]
     },
     "execution_count": 453,
     "metadata": {},
     "output_type": "execute_result"
    }
   ],
   "source": [
    "count_vect = CountVectorizer(max_features=700)\n",
    "count_vect.fit((clean_moviereview_df.review).values.astype('U'))"
   ]
  },
  {
   "cell_type": "code",
   "execution_count": 454,
   "metadata": {},
   "outputs": [],
   "source": [
    "X = count_vect.transform((clean_moviereview_df.review.values).astype('U')).toarray()\n",
    "from sklearn.preprocessing import LabelEncoder\n",
    "le = LabelEncoder()\n",
    "\n",
    "y = le.fit_transform(clean_moviereview_df.label)\n",
    "X_train, X_test, y_train, y_test = train_test_split(X, y, test_size = 0.2, random_state = 0)"
   ]
  },
  {
   "cell_type": "code",
   "execution_count": 455,
   "metadata": {},
   "outputs": [
    {
     "name": "stdout",
     "output_type": "stream",
     "text": [
      "The Precision is 0.7193954659949622\n",
      "The recall is 0.709741550695825\n",
      "The f1 is 0.7145359019264448\n",
      "The Accuracy is 0.71475\n"
     ]
    }
   ],
   "source": [
    "#Decision Tree\n",
    "from sklearn.tree import DecisionTreeClassifier\n",
    "\n",
    "from sklearn.metrics import precision_score,recall_score,f1_score,accuracy_score\n",
    "\n",
    "clf = DecisionTreeClassifier(criterion='gini')\n",
    "\n",
    "clf.fit(X_train, y_train)\n",
    "\n",
    "predictions = clf.predict(X_test)\n",
    "precision=precision_score(y_test, predictions)\n",
    "recall=recall_score(y_test, predictions)\n",
    "f1=f1_score(y_test, predictions)\n",
    "accuracy = accuracy_score(y_test, predictions)\n",
    "print('The Precision is', precision)\n",
    "print('The recall is', recall)\n",
    "print('The f1 is', f1)\n",
    "print('The Accuracy is', accuracy)"
   ]
  },
  {
   "cell_type": "code",
   "execution_count": 456,
   "metadata": {},
   "outputs": [
    {
     "name": "stdout",
     "output_type": "stream",
     "text": [
      "The Precision is 0.7653009610520991\n",
      "The recall is 0.7519880715705766\n",
      "The f1 is 0.7585861118074706\n",
      "The Accuracy is 0.75925\n"
     ]
    }
   ],
   "source": [
    "#Random Forest\n",
    "from sklearn.ensemble import RandomForestClassifier\n",
    "clf = RandomForestClassifier(n_estimators=5)\n",
    "\n",
    "clf.fit(X_train, y_train)\n",
    "\n",
    "predictions = clf.predict(X_test)\n",
    "precision=precision_score(y_test, predictions)\n",
    "recall=recall_score(y_test, predictions)\n",
    "f1=f1_score(y_test, predictions)\n",
    "accuracy = accuracy_score(y_test, predictions)\n",
    "print('The Precision is', precision)\n",
    "print('The recall is', recall)\n",
    "print('The f1 is', f1)\n",
    "print('The Accuracy is', accuracy)"
   ]
  },
  {
   "cell_type": "code",
   "execution_count": 458,
   "metadata": {},
   "outputs": [
    {
     "name": "stderr",
     "output_type": "stream",
     "text": [
      "C:\\Users\\ThinkPad\\Anaconda3\\lib\\site-packages\\sklearn\\svm\\base.py:196: FutureWarning: The default value of gamma will change from 'auto' to 'scale' in version 0.22 to account better for unscaled features. Set gamma explicitly to 'auto' or 'scale' to avoid this warning.\n",
      "  \"avoid this warning.\", FutureWarning)\n"
     ]
    },
    {
     "name": "stdout",
     "output_type": "stream",
     "text": [
      "The Precision is 0.7977628635346756\n",
      "The recall is 0.8861829025844931\n",
      "The f1 is 0.8396515187190959\n",
      "The Accuracy is 0.82975\n"
     ]
    }
   ],
   "source": [
    "#SVM\n",
    "from sklearn.svm import SVC\n",
    "clf = SVC()\n",
    "\n",
    "clf.fit(X_train, y_train)\n",
    "\n",
    "predictions = clf.predict(X_test)\n",
    "precision=precision_score(y_test, predictions)\n",
    "recall=recall_score(y_test, predictions)\n",
    "f1=f1_score(y_test, predictions)\n",
    "accuracy = accuracy_score(y_test, predictions)\n",
    "print('The Precision is', precision)\n",
    "print('The recall is', recall)\n",
    "print('The f1 is', f1)\n",
    "print('The Accuracy is', accuracy)"
   ]
  },
  {
   "cell_type": "code",
   "execution_count": 460,
   "metadata": {},
   "outputs": [],
   "source": [
    "#pos_tag-adj,v\n",
    "clean_train_df = pd.read_csv(\"Train_Data_After_Removing_MeaninglessWords.csv\", encoding='ISO-8859-1', engine='c')\n",
    "clean_test_df = pd.read_csv(\"Test_Data_After_Removing_MeaninglessWords.csv\", encoding='ISO-8859-1', engine='c')\n",
    "clean_moviereview_df = pd.concat([clean_train_df, clean_test_df])\n",
    "words=(clean_moviereview_df.review.values.astype('U'))\n",
    "tags2=[]\n",
    "for n in range(len(tag_words)):\n",
    "    for m in range(len(tag_words[n])):\n",
    "        if (tag_words[n][m][1]=='JJ') or (tag_words[n][m][1]=='VV'):\n",
    "            tags2.append(tag_words[n][m][0])"
   ]
  },
  {
   "cell_type": "code",
   "execution_count": 461,
   "metadata": {},
   "outputs": [],
   "source": [
    "tags1 =[]\n",
    " \n",
    "for f in clean_moviereview_df['review']:\n",
    "    f1='%s' %f\n",
    "    word_tokens = word_tokenize(f1)\n",
    "    clean = [w for w in word_tokens if w in tags]\n",
    "    f_new = \" \".join(clean)\n",
    "    tags1.append(f_new)"
   ]
  },
  {
   "cell_type": "code",
   "execution_count": 462,
   "metadata": {},
   "outputs": [],
   "source": [
    "clean_moviereview_df['review']=tags1\n",
    "count_vect = CountVectorizer(max_features=700)\n",
    "count_vect.fit((clean_moviereview_df.review).values.astype('U'))\n",
    "X = count_vect.transform((clean_moviereview_df.review.values).astype('U')).toarray()\n",
    "from sklearn.preprocessing import LabelEncoder\n",
    "le = LabelEncoder()\n",
    "\n",
    "y = le.fit_transform(clean_moviereview_df.label)\n",
    "X_train, X_test, y_train, y_test = train_test_split(X, y, test_size = 0.2, random_state = 0)"
   ]
  },
  {
   "cell_type": "code",
   "execution_count": 463,
   "metadata": {},
   "outputs": [
    {
     "name": "stdout",
     "output_type": "stream",
     "text": [
      "The Precision is 0.7163192679206914\n",
      "The recall is 0.7002982107355865\n",
      "The f1 is 0.7082181452626288\n",
      "The Accuracy is 0.70975\n"
     ]
    }
   ],
   "source": [
    "#Decision Tree\n",
    "from sklearn.tree import DecisionTreeClassifier\n",
    "\n",
    "from sklearn.metrics import precision_score,recall_score,f1_score,accuracy_score\n",
    "\n",
    "clf = DecisionTreeClassifier(criterion='gini')\n",
    "\n",
    "clf.fit(X_train, y_train)\n",
    "\n",
    "predictions = clf.predict(X_test)\n",
    "precision=precision_score(y_test, predictions)\n",
    "recall=recall_score(y_test, predictions)\n",
    "f1=f1_score(y_test, predictions)\n",
    "accuracy = accuracy_score(y_test, predictions)\n",
    "print('The Precision is', precision)\n",
    "print('The recall is', recall)\n",
    "print('The f1 is', f1)\n",
    "print('The Accuracy is', accuracy)"
   ]
  },
  {
   "cell_type": "code",
   "execution_count": 464,
   "metadata": {},
   "outputs": [
    {
     "name": "stdout",
     "output_type": "stream",
     "text": [
      "The Precision is 0.7511177347242921\n",
      "The recall is 0.7514910536779325\n",
      "The f1 is 0.751304347826087\n",
      "The Accuracy is 0.74975\n"
     ]
    }
   ],
   "source": [
    "#Random Forest\n",
    "from sklearn.ensemble import RandomForestClassifier\n",
    "clf = RandomForestClassifier(n_estimators=5)\n",
    "\n",
    "clf.fit(X_train, y_train)\n",
    "\n",
    "predictions = clf.predict(X_test)\n",
    "precision=precision_score(y_test, predictions)\n",
    "recall=recall_score(y_test, predictions)\n",
    "f1=f1_score(y_test, predictions)\n",
    "accuracy = accuracy_score(y_test, predictions)\n",
    "print('The Precision is', precision)\n",
    "print('The recall is', recall)\n",
    "print('The f1 is', f1)\n",
    "print('The Accuracy is', accuracy)"
   ]
  },
  {
   "cell_type": "code",
   "execution_count": 465,
   "metadata": {},
   "outputs": [
    {
     "name": "stderr",
     "output_type": "stream",
     "text": [
      "C:\\Users\\ThinkPad\\Anaconda3\\lib\\site-packages\\sklearn\\svm\\base.py:196: FutureWarning: The default value of gamma will change from 'auto' to 'scale' in version 0.22 to account better for unscaled features. Set gamma explicitly to 'auto' or 'scale' to avoid this warning.\n",
      "  \"avoid this warning.\", FutureWarning)\n"
     ]
    },
    {
     "name": "stdout",
     "output_type": "stream",
     "text": [
      "The Precision is 0.7977628635346756\n",
      "The recall is 0.8861829025844931\n",
      "The f1 is 0.8396515187190959\n",
      "The Accuracy is 0.82975\n"
     ]
    }
   ],
   "source": [
    "#SVM\n",
    "from sklearn.svm import SVC\n",
    "clf = SVC()\n",
    "\n",
    "clf.fit(X_train, y_train)\n",
    "\n",
    "predictions = clf.predict(X_test)\n",
    "precision=precision_score(y_test, predictions)\n",
    "recall=recall_score(y_test, predictions)\n",
    "f1=f1_score(y_test, predictions)\n",
    "accuracy = accuracy_score(y_test, predictions)\n",
    "print('The Precision is', precision)\n",
    "print('The recall is', recall)\n",
    "print('The f1 is', f1)\n",
    "print('The Accuracy is', accuracy)"
   ]
  },
  {
   "cell_type": "code",
   "execution_count": null,
   "metadata": {},
   "outputs": [],
   "source": []
  }
 ],
 "metadata": {
  "kernelspec": {
   "display_name": "Python 3",
   "language": "python",
   "name": "python3"
  },
  "language_info": {
   "codemirror_mode": {
    "name": "ipython",
    "version": 3
   },
   "file_extension": ".py",
   "mimetype": "text/x-python",
   "name": "python",
   "nbconvert_exporter": "python",
   "pygments_lexer": "ipython3",
   "version": "3.7.3"
  }
 },
 "nbformat": 4,
 "nbformat_minor": 2
}
